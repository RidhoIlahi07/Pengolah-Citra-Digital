{
 "cells": [
  {
   "cell_type": "markdown",
   "metadata": {},
   "source": [
    "### Jurnal 1 dan 2"
   ]
  },
  {
   "cell_type": "code",
   "execution_count": 1,
   "metadata": {},
   "outputs": [],
   "source": [
    "import numpy as np\n",
    "import matplotlib.pyplot as plot"
   ]
  },
  {
   "cell_type": "code",
   "execution_count": 2,
   "metadata": {},
   "outputs": [
    {
     "name": "stdout",
     "output_type": "stream",
     "text": [
      "[ 790 1023  850  656  329  245  122   81]\n",
      "[0. 0. 0. 0. 0. 0. 0. 0.]\n"
     ]
    }
   ],
   "source": [
    "Array = np.array ([790,1023,850,656,329,245,122,81])\n",
    "level = np.array([0,1,2,3,4,5,6,7])\n",
    "kosong=np.zeros(8)\n",
    "print (Array)\n",
    "print (kosong)"
   ]
  },
  {
   "cell_type": "code",
   "execution_count": 3,
   "metadata": {},
   "outputs": [
    {
     "data": {
      "text/plain": [
       "<BarContainer object of 8 artists>"
      ]
     },
     "execution_count": 3,
     "metadata": {},
     "output_type": "execute_result"
    },
    {
     "data": {
      "image/png": "[encoded data removed]",
      "text/plain": [
       "<Figure size 432x288 with 1 Axes>"
      ]
     },
     "metadata": {
      "needs_background": "light"
     },
     "output_type": "display_data"
    }
   ],
   "source": [
    "plot.bar(level,Array)"
   ]
  },
  {
   "cell_type": "code",
   "execution_count": 4,
   "metadata": {},
   "outputs": [
    {
     "name": "stdout",
     "output_type": "stream",
     "text": [
      "4096\n"
     ]
    }
   ],
   "source": [
    "tampung=0\n",
    "for i in range (len(Array)):\n",
    "    tampung+=Array[i]\n",
    "print(tampung)"
   ]
  },
  {
   "cell_type": "code",
   "execution_count": 5,
   "metadata": {},
   "outputs": [
    {
     "name": "stdout",
     "output_type": "stream",
     "text": [
      "[0.19287109 0.24975586 0.20751953 0.16015625 0.08032227 0.05981445\n",
      " 0.02978516 0.01977539]\n"
     ]
    }
   ],
   "source": [
    "for i in range (len(Array)):\n",
    "    kosong[i]=Array[i]/tampung\n",
    "print (kosong)"
   ]
  },
  {
   "cell_type": "code",
   "execution_count": 6,
   "metadata": {},
   "outputs": [
    {
     "data": {
      "text/plain": [
       "<BarContainer object of 8 artists>"
      ]
     },
     "execution_count": 6,
     "metadata": {},
     "output_type": "execute_result"
    },
    {
     "data": {
      "image/png": "[encoded data removed]",
      "text/plain": [
       "<Figure size 432x288 with 1 Axes>"
      ]
     },
     "metadata": {
      "needs_background": "light"
     },
     "output_type": "display_data"
    }
   ],
   "source": [
    "plot.bar([0,1,2,3,4,5,6,7],kosong)"
   ]
  },
  {
   "cell_type": "code",
   "execution_count": 7,
   "metadata": {},
   "outputs": [
    {
     "name": "stdout",
     "output_type": "stream",
     "text": [
      "[ 790. 1813. 2663. 3319. 3648. 3893. 4015. 4096.]\n"
     ]
    }
   ],
   "source": [
    "ci=np.zeros(8)\n",
    "tmp=0\n",
    "for x in range (len(Array)):\n",
    "    tmp+=Array[x]\n",
    "    ci[x]=tmp\n",
    "print (ci)"
   ]
  },
  {
   "cell_type": "code",
   "execution_count": 8,
   "metadata": {},
   "outputs": [
    {
     "name": "stdout",
     "output_type": "stream",
     "text": [
      "[1. 3. 5. 6. 6. 7. 7. 7.]\n",
      "[0.19287109 0.24975586 0.20751953 0.16015625 0.08032227 0.05981445\n",
      " 0.02978516 0.01977539]\n"
     ]
    },
    {
     "data": {
      "text/plain": [
       "<BarContainer object of 8 artists>"
      ]
     },
     "execution_count": 8,
     "metadata": {},
     "output_type": "execute_result"
    },
    {
     "data": {
      "image/png": "[encoded data removed]",
      "text/plain": [
       "<Figure size 432x288 with 1 Axes>"
      ]
     },
     "metadata": {
      "needs_background": "light"
     },
     "output_type": "display_data"
    }
   ],
   "source": [
    "data=np.zeros(8)\n",
    "hasil=np.zeros(8)\n",
    "for y in range (len (Array)):\n",
    "    data[y]=round(7*(ci[y]/tampung))\n",
    "print (data)\n",
    "print (kosong)\n",
    "plot.bar(data,kosong)"
   ]
  },
  {
   "cell_type": "code",
   "execution_count": 9,
   "metadata": {},
   "outputs": [
    {
     "name": "stdout",
     "output_type": "stream",
     "text": [
      "[0.         0.19287109 0.         0.24975586 0.         0.20751953\n",
      " 0.24047852 0.109375  ]\n"
     ]
    },
    {
     "data": {
      "text/plain": [
       "<BarContainer object of 8 artists>"
      ]
     },
     "execution_count": 9,
     "metadata": {},
     "output_type": "execute_result"
    },
    {
     "data": {
      "image/png": "[encoded data removed]",
      "text/plain": [
       "<Figure size 432x288 with 1 Axes>"
      ]
     },
     "metadata": {
      "needs_background": "light"
     },
     "output_type": "display_data"
    }
   ],
   "source": [
    "f=np.array([0,0,0,0,0,0,0,0], dtype=np.float)\n",
    "for h in range (len (kosong)):\n",
    "    if (data[h]==1):\n",
    "        f[1]+=kosong[h]\n",
    "    elif(data[h]==3):\n",
    "        f[3]+=kosong[h]\n",
    "    elif(data[h]==5):\n",
    "        f[5]+=kosong[h]\n",
    "    elif(data[h]==6):\n",
    "        f[6]+=kosong[h]\n",
    "    elif(data[h]==7):\n",
    "        f[7]+=kosong[h]\n",
    "print (f)\n",
    "plot.bar([0,1,2,3,4,5,6,7],f)"
   ]
  },
  {
   "cell_type": "code",
   "execution_count": null,
   "metadata": {},
   "outputs": [],
   "source": []
  }
 ],
 "metadata": {
  "kernelspec": {
   "display_name": "Python 3",
   "language": "python",
   "name": "python3"
  },
  "language_info": {
   "codemirror_mode": {
    "name": "ipython",
    "version": 3
   },
   "file_extension": ".py",
   "mimetype": "text/x-python",
   "name": "python",
   "nbconvert_exporter": "python",
   "pygments_lexer": "ipython3",
   "version": "3.7.3"
  }
 },
 "nbformat": 4,
 "nbformat_minor": 2
}
