{
 "cells": [
  {
   "cell_type": "markdown",
   "metadata": {},
   "source": [
    "### Jurnal nomer 3"
   ]
  },
  {
   "cell_type": "code",
   "execution_count": 1,
   "metadata": {},
   "outputs": [],
   "source": [
    "import numpy as np\n",
    "import matplotlib.pyplot as plt"
   ]
  },
  {
   "cell_type": "code",
   "execution_count": 2,
   "metadata": {},
   "outputs": [
    {
     "name": "stdout",
     "output_type": "stream",
     "text": [
      "[0 1 2 3 4 5 6 7]\n",
      "[ 790 1023  850  656  329  245  122   81]\n"
     ]
    }
   ],
   "source": [
    "l=np.array([0,1,2,3,4,5,6,7])\n",
    "nk=np.array([790,1023,850,656,329,245,122,81])\n",
    "print(l)\n",
    "print(nk)"
   ]
  },
  {
   "cell_type": "code",
   "execution_count": 3,
   "metadata": {},
   "outputs": [
    {
     "data": {
      "image/png": "[encoded data removed]",
      "text/plain": [
       "<Figure size 432x288 with 1 Axes>"
      ]
     },
     "metadata": {
      "needs_background": "light"
     },
     "output_type": "display_data"
    }
   ],
   "source": [
    "plt.xlabel('Derajat Keabuan')\n",
    "plt.ylabel('Jumlah')\n",
    "plt.bar(l,nk)\n",
    "plt.show()"
   ]
  },
  {
   "cell_type": "code",
   "execution_count": 4,
   "metadata": {},
   "outputs": [
    {
     "name": "stdout",
     "output_type": "stream",
     "text": [
      "[0.19287109 0.24975586 0.20751953 0.16015625 0.08032227 0.05981445\n",
      " 0.02978516 0.01977539]\n"
     ]
    }
   ],
   "source": [
    "prob=np.zeros(8)\n",
    "for x in range (8):\n",
    "    prob[x]=nk[x]/4096\n",
    "print(prob)"
   ]
  },
  {
   "cell_type": "code",
   "execution_count": 5,
   "metadata": {},
   "outputs": [
    {
     "name": "stdout",
     "output_type": "stream",
     "text": [
      "[ 790. 1813. 2663. 3319. 3648. 3893. 4015. 4096.]\n"
     ]
    }
   ],
   "source": [
    "ci=np.zeros(8)\n",
    "for x in range (8):\n",
    "    for y in range (x+1):\n",
    "        ci[x]=ci[x]+nk[y]\n",
    "print(ci)"
   ]
  },
  {
   "cell_type": "code",
   "execution_count": 6,
   "metadata": {},
   "outputs": [
    {
     "name": "stdout",
     "output_type": "stream",
     "text": [
      "[1. 3. 5. 6. 6. 7. 7. 7.]\n"
     ]
    }
   ],
   "source": [
    "ai=np.zeros(8)\n",
    "for x in range (8):\n",
    "    ai[x]=round(7*(ci[x]/4096))\n",
    "print(ai)"
   ]
  },
  {
   "cell_type": "code",
   "execution_count": 7,
   "metadata": {},
   "outputs": [
    {
     "name": "stdout",
     "output_type": "stream",
     "text": [
      "[0.         0.19287109 0.         0.24975586 0.         0.20751953\n",
      " 0.24047852 0.109375  ]\n"
     ]
    }
   ],
   "source": [
    "ek=np.zeros(8)\n",
    "for x in range (8):\n",
    "    k=int(ai[x])\n",
    "    ek[k]=ek[k]+prob[x]\n",
    "print(ek)"
   ]
  },
  {
   "cell_type": "code",
   "execution_count": 8,
   "metadata": {},
   "outputs": [
    {
     "data": {
      "image/png": "[encoded data removed]",
      "text/plain": [
       "<Figure size 432x288 with 1 Axes>"
      ]
     },
     "metadata": {
      "needs_background": "light"
     },
     "output_type": "display_data"
    }
   ],
   "source": [
    "lv=[0,1,2,3,4,5,6,7]\n",
    "plt.xlabel('Derajat Keabuan')\n",
    "plt.ylabel('Jumlah')\n",
    "plt.bar(l,ek)\n",
    "plt.show()"
   ]
  },
  {
   "cell_type": "code",
   "execution_count": 9,
   "metadata": {},
   "outputs": [
    {
     "name": "stdout",
     "output_type": "stream",
     "text": [
      "[0 1 2 3 4 5 6 7]\n",
      "[0.   0.   0.   0.15 0.2  0.3  0.2  0.15]\n"
     ]
    },
    {
     "data": {
      "image/png": "[encoded data removed]",
      "text/plain": [
       "<Figure size 432x288 with 1 Axes>"
      ]
     },
     "metadata": {
      "needs_background": "light"
     },
     "output_type": "display_data"
    }
   ],
   "source": [
    "l=np.array([0,1,2,3,4,5,6,7])\n",
    "s=np.array([0, 0, 0, 0.15, 0.2, 0.3, 0.2, 0.15])\n",
    "print(l)\n",
    "print(s)\n",
    "plt.xlabel('Derajat Keabuan')\n",
    "plt.ylabel('Jumlah')\n",
    "plt.bar(l,s)\n",
    "plt.show()"
   ]
  },
  {
   "cell_type": "code",
   "execution_count": 10,
   "metadata": {},
   "outputs": [
    {
     "name": "stdout",
     "output_type": "stream",
     "text": [
      "[0.   0.   0.   0.15 0.35 0.65 0.85 1.  ]\n"
     ]
    }
   ],
   "source": [
    "vk=np.zeros(8)\n",
    "for x in range (8):\n",
    "    for y in range (x+1):\n",
    "        vk[x]=vk[x]+s[y]\n",
    "        \n",
    "print(vk)"
   ]
  },
  {
   "cell_type": "code",
   "execution_count": 11,
   "metadata": {},
   "outputs": [
    {
     "name": "stdout",
     "output_type": "stream",
     "text": [
      "[0.   0.14 0.29 0.43 0.57 0.71 0.86 1.  ]\n"
     ]
    }
   ],
   "source": [
    "zk=np.zeros(8)\n",
    "for x in range (8):\n",
    "    zk[x]=round((l[x]/7),2)\n",
    "print(zk)"
   ]
  },
  {
   "cell_type": "code",
   "execution_count": 12,
   "metadata": {},
   "outputs": [
    {
     "name": "stdout",
     "output_type": "stream",
     "text": [
      "[0.         0.         0.         0.19287109 0.24975586 0.20751953\n",
      " 0.24047852 0.109375  ]\n"
     ]
    },
    {
     "data": {
      "image/png": "[encoded data removed]",
      "text/plain": [
       "<Figure size 432x288 with 1 Axes>"
      ]
     },
     "metadata": {
      "needs_background": "light"
     },
     "output_type": "display_data"
    }
   ],
   "source": [
    "s=np.zeros(8)\n",
    "for x in range (8):\n",
    "    b=1\n",
    "    i=1\n",
    "    if(ek[x]!=0):\n",
    "        for y in range (8):\n",
    "            n=abs(zk[x]-vk[y])\n",
    "            if(n<b):\n",
    "                b=n\n",
    "                i=y\n",
    "        s[i]=ek[x]\n",
    "print(s)\n",
    "plt.xlabel('Derajat Keabuan')\n",
    "plt.ylabel('Jumlah')\n",
    "plt.bar(l,s)\n",
    "plt.show()"
   ]
  }
 ],
 "metadata": {
  "kernelspec": {
   "display_name": "Python 3",
   "language": "python",
   "name": "python3"
  },
  "language_info": {
   "codemirror_mode": {
    "name": "ipython",
    "version": 3
   },
   "file_extension": ".py",
   "mimetype": "text/x-python",
   "name": "python",
   "nbconvert_exporter": "python",
   "pygments_lexer": "ipython3",
   "version": "3.7.3"
  }
 },
 "nbformat": 4,
 "nbformat_minor": 4
}
