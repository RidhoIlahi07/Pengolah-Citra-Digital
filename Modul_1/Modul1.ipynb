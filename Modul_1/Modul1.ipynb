{
 "cells": [
  {
   "cell_type": "markdown",
   "metadata": {},
   "source": [
    "# Jurnal Nomor 1"
   ]
  },
  {
   "cell_type": "code",
   "execution_count": 1,
   "metadata": {},
   "outputs": [
    {
     "name": "stdout",
     "output_type": "stream",
     "text": [
      "[[ 3  7  7  8 10 12 14 10]\n",
      " [ 2  0  0  0  1  8 15 15]\n",
      " [14  6  5  9  8 10  9 12]\n",
      " [12 12 11  8  8 10 11  1]\n",
      " [ 0  2  3  4  5 13 10 14]\n",
      " [ 4  5  0  0  1  0  2  2]\n",
      " [15 13 11 10  9  9  8  7]\n",
      " [ 2  1  0 10 11 14 13 12]]\n",
      "[ 3  7  7  8 10 12 14 10  2  0  0  0  1  8 15 15 14  6  5  9  8 10  9 12\n",
      " 12 12 11  8  8 10 11  1  0  2  3  4  5 13 10 14  4  5  0  0  1  0  2  2\n",
      " 15 13 11 10  9  9  8  7  2  1  0 10 11 14 13 12]\n"
     ]
    }
   ],
   "source": [
    "import numpy as np\n",
    "import matplotlib.pyplot as plot\n",
    "Array=np.array([[3,7,7,8,10,12,14,10],\n",
    "          [2,0,0,0,1,8,15,15],\n",
    "          [14,6,5,9,8,10,9,12],\n",
    "          [12,12,11,8,8,10,11,1],\n",
    "          [0,2,3,4,5,13,10,14],\n",
    "          [4,5,0,0,1,0,2,2],\n",
    "          [15,13,11,10,9,9,8,7],\n",
    "          [2,1,0,10,11,14,13,12]])\n",
    "print (Array)\n",
    "ArrayHasilRavel=np.ravel(Array)\n",
    "print (ArrayHasilRavel)"
   ]
  },
  {
   "cell_type": "markdown",
   "metadata": {},
   "source": [
    "### import numpy as np \n",
    "Numpy memiliki kegunaan untuk operasi vektor dan matriks. Fiturnya hampir sama dengan MATLAB dalam mengelola array dan array multidimensi. Numpy merupakan salah satu library yang digunakan oleh library lain seperti Scikit-Learn untuk keperluan analisis data\n",
    "### import matplotlib.pyplot as plot\n",
    "matplotlib dapat digunakan sebagai pembuat grafik dalam berbagai platform, seperti Python dan Jupyter. Grafik yang dapat dibuat beragam, seperti grafik garis, batang, lingkaran, histogram, dsb.\n",
    "### Array=np.array \n",
    "Berfungsi sebagai satu variabel yang bernama \"Array\" yang menampung nilai suatu matrix 2 dimensi yang dimensinya 8x8\n",
    "### print (Array) \n",
    "Berfungsi untuk menampilkan data yang ada di variabel \"Array\"\n",
    "### ArrayHasilRavel=np.ravel(Array) \n",
    "np.ravel adalah suatu library yang berfungsi untuk membuat matrix 2 dimenasi menjadi 1 dimensi \n",
    "### print (ArrayHasilRavel) \n",
    "Berungsi menampilkan nilai dari variabel \"ArrayHasilRavel\""
   ]
  },
  {
   "cell_type": "code",
   "execution_count": 2,
   "metadata": {},
   "outputs": [
    {
     "name": "stdout",
     "output_type": "stream",
     "text": [
      "[0. 0. 0. 0. 0. 0. 0. 0. 0. 0. 0. 0. 0. 0. 0. 0.]\n"
     ]
    }
   ],
   "source": [
    "ArrayKosong=np.zeros(16)\n",
    "print (ArrayKosong)"
   ]
  },
  {
   "cell_type": "markdown",
   "metadata": {},
   "source": [
    "### ArrayKosong=np.zeros(16)\n",
    "berfungsi sebagai pembuatan array kosong 1 dimensi yang panjangnya 16\n",
    "### print (ArrayKosong)\n",
    "berfungsi untuk menampilkan hasil array kosong tersebut"
   ]
  },
  {
   "cell_type": "code",
   "execution_count": 3,
   "metadata": {},
   "outputs": [],
   "source": [
    "ArrayKosong=np.zeros(16)"
   ]
  },
  {
   "cell_type": "markdown",
   "metadata": {},
   "source": [
    "### ArrayKosong=np.zeros(16)\n",
    "berfungsi sebagai array kososng yang panjangnya 1 dimensi "
   ]
  },
  {
   "cell_type": "code",
   "execution_count": 4,
   "metadata": {},
   "outputs": [
    {
     "name": "stdout",
     "output_type": "stream",
     "text": [
      "[8. 4. 5. 2. 2. 3. 1. 3. 6. 4. 7. 4. 5. 3. 4. 3.]\n"
     ]
    }
   ],
   "source": [
    "# for bantuan in range (len (a)):\n",
    "for bantuan in ArrayHasilRavel:\n",
    "    ArrayKosong[bantuan]+=1\n",
    "# print (b)\n",
    "# for x in a:\n",
    "#     for y in x:\n",
    "#         b[y]+=1\n",
    "print (ArrayKosong)"
   ]
  },
  {
   "cell_type": "markdown",
   "metadata": {},
   "source": [
    "code di atas berfungsi untuk melakukan perhitungan jumlah data yang pada array yang sudah di buat \n",
    "### for bantuan in ArrayHasilRavel:\n",
    "berfungsi sebagai perulangan untuk mengulang data yang ada pada ArrayHasilRavel untuk di olang oleh variabel bantuan \n",
    "### ArrayKosong[bantuan]+=1\n",
    "berfungsi sebagai varibel yang menampung data yang sudah di hitung kemudian jika menmekukkan anka yang sama bakalan tambah 1 \n",
    "### print (ArrayKosong)\n",
    "menampilakn isi dari variabel array kosong "
   ]
  },
  {
   "cell_type": "code",
   "execution_count": 5,
   "metadata": {},
   "outputs": [
    {
     "name": "stdout",
     "output_type": "stream",
     "text": [
      "[0.125    0.0625   0.078125 0.03125  0.03125  0.046875 0.015625 0.046875\n",
      " 0.09375  0.0625   0.109375 0.0625   0.078125 0.046875 0.0625   0.046875]\n"
     ]
    }
   ],
   "source": [
    "for x in range (len (ArrayKosong)):\n",
    "    ArrayKosong[x]/=64\n",
    "print (ArrayKosong)"
   ]
  },
  {
   "cell_type": "markdown",
   "metadata": {},
   "source": [
    "code di atas berfungsi sebagai pembagi jumlah banyak data dengan jumlah selulurh data \n",
    "### for x in range (len (ArrayKosong)):\n",
    "berfungsi sebagai mengulang panjang data yang ada di veribel array kosong untuk di ulang sebanyak data variabel tersebut oleh variable x\n",
    "### ArrayKosong[x]/=64\n",
    "dimana disini nilai pada variabel arraykosong di bagi dengan jumlah seluruh data "
   ]
  },
  {
   "cell_type": "code",
   "execution_count": 6,
   "metadata": {},
   "outputs": [
    {
     "data": {
      "text/plain": [
       "<BarContainer object of 16 artists>"
      ]
     },
     "execution_count": 6,
     "metadata": {},
     "output_type": "execute_result"
    },
    {
     "data": {
      "image/png": "[encoded data removed]",
      "text/plain": [
       "<Figure size 432x288 with 1 Axes>"
      ]
     },
     "metadata": {
      "needs_background": "light"
     },
     "output_type": "display_data"
    }
   ],
   "source": [
    "# d=np.arange(0,16)\n",
    "plot.bar([0,1,2,3,4,5,6,7,8,9,10,11,12,13,14,15],ArrayKosong)"
   ]
  },
  {
   "cell_type": "markdown",
   "metadata": {},
   "source": [
    "### plot.bar([0,1,2,3,4,5,6,7,8,9,10,11,12,13,14,15],ArrayKosong)\n",
    "berfungsi untuk menampilkan data hasil yang sudah di olah dalam bentuk histogram dimana  \"plot.bar\" adalah librari dari \"import matplotlib.pyplot as plot\" salah satu variabel yang membantu untuk menampilakan histogram"
   ]
  },
  {
   "cell_type": "markdown",
   "metadata": {},
   "source": [
    "# Junal nomer 2"
   ]
  },
  {
   "cell_type": "code",
   "execution_count": 7,
   "metadata": {},
   "outputs": [
    {
     "name": "stdout",
     "output_type": "stream",
     "text": [
      "[[ 1  1  3  2  0]\n",
      " [ 4  5  6  5  0]\n",
      " [ 6  2 10  2  0]\n",
      " [ 1  1  3  2  0]\n",
      " [ 0  0  0  0  0]]\n",
      "[[1 2]\n",
      " [3 5]]\n"
     ]
    }
   ],
   "source": [
    "Array5D=np.array([[1,1,3,2,0],\n",
    "                  [4,5,6,5,0],\n",
    "                  [6,2,10,2,0],\n",
    "                  [1,1,3,2,0],\n",
    "                  [0,0,0,0,0]])\n",
    "Kernel=np.array([[1,2],\n",
    "                 [3,5]])\n",
    "Array4D=np.array([[0,0,0,0],\n",
    "                   [0,0,0,0],\n",
    "                   [0,0,0,0],\n",
    "                   [0,0,0,0]])\n",
    "ArrayKos5D=np.array([[0,0,0,0,0],\n",
    "                     [0,0,0,0,0],\n",
    "                     [0,0,0,0,0],\n",
    "                     [0,0,0,0,0],\n",
    "                     [0,0,0,0,0]]) \n",
    "print(Array5D)\n",
    "print(Kernel)"
   ]
  },
  {
   "cell_type": "markdown",
   "metadata": {},
   "source": [
    "code di atas berfungsi untuk membuat beberapa array sesuai kebutuhan \n",
    "### Array5D=np.array\n",
    "berfungsi sebagai pembuatan array 5 dimensi dimana 4 dimensinya di isikan oleh data sesuai dengan ketentuan soal \n",
    "### Kernel=np.array\n",
    "berfungsi untuk pembuatan array 2 dimensi yang mana isinya ada data dari karnel data \n",
    "### Array4D=np.array\n",
    "berfungsi untuk membuat array kosong dengan 4 dimensi \n",
    "### ArrayKos5D=np.array\n",
    "berfungsi untuk membuat array 5 dimensi "
   ]
  },
  {
   "cell_type": "markdown",
   "metadata": {},
   "source": [
    "code di atas berfung untuk mengganti data yang sudah di oleh dengan ketentuan rumus dimana data yang ada pada array 5 dimensi di kalikan degan data dari array karnel yang mana hasilnya akan di taruhkan di pusat atau center yang sudah di tetukan.\n",
    "pada proses ini lah kovolusi di lakukan untuk membuat data menjadi lebih baik \n",
    "### for rw in range (4):\n",
    "   ### for cl in range(4):\n",
    "berfungsi sebagai pendeklarasi dari baris dan kolom dari array yang akan di olah\n",
    "### ArrayKos5D[rw,cl]= Array5D[rw,cl]*Kernel[0,0]+Array5D[rw,cl+1]*Kernel[0,1]+Array5D[rw+1,cl]*Kernel[1,0]+Array5D[rw+1,cl+1]*Kernel[1,1]\n",
    "berufungsi sebagai perhitungan sesuai dengan rumus yang sudah ada dan mengolah data sesusai dengan ketetuan yang ada "
   ]
  },
  {
   "cell_type": "code",
   "execution_count": 8,
   "metadata": {},
   "outputs": [
    {
     "name": "stdout",
     "output_type": "stream",
     "text": [
      "[[40 52 50 17  0]\n",
      " [42 73 56 11  0]\n",
      " [18 40 33  8  0]\n",
      " [ 3  7  7  2  0]\n",
      " [ 0  0  0  0  0]]\n"
     ]
    }
   ],
   "source": [
    "for rw in range (4):\n",
    "    for cl in range(4):\n",
    "        ArrayKos5D[rw,cl]= Array5D[rw,cl]*Kernel[0,0]+Array5D[rw,cl+1]*Kernel[0,1]+Array5D[rw+1,cl]*Kernel[1,0]+Array5D[rw+1,cl+1]*Kernel[1,1]\n",
    "#         print (\"index\",e[rw][cl],\"->\",c[rw,cl])\n",
    "#         print (\"->>>>\",e[cl])\n",
    "#         print (\"baris ->\",c[rw])\n",
    "#         print (\"kolom ->     \",c[cl])\n",
    "print (ArrayKos5D)"
   ]
  },
  {
   "cell_type": "code",
   "execution_count": 9,
   "metadata": {},
   "outputs": [
    {
     "name": "stdout",
     "output_type": "stream",
     "text": [
      "[[ 8 11 10  3  0]\n",
      " [ 8 15 11  2  0]\n",
      " [ 3  8  7  1  0]\n",
      " [ 0  1  1  0  0]\n",
      " [ 0  0  0  0  0]]\n"
     ]
    }
   ],
   "source": [
    "for rw in range (4):\n",
    "    for cl in range (4):\n",
    "        ArrayKos5D[rw,cl]=round(((ArrayKos5D[rw,cl]-2)/71)*15)\n",
    "print (ArrayKos5D)"
   ]
  },
  {
   "cell_type": "markdown",
   "metadata": {},
   "source": [
    "code di atas berfungsi sebagai untuk menormalisasikan data yang sudah di konvolusi tadi\n",
    "### ArrayKos5D[rw,cl]=round(((ArrayKos5D[rw,cl]-2)/71)*15)\n",
    "merupakan rumus yang sudah ketentuan rumus "
   ]
  },
  {
   "cell_type": "code",
   "execution_count": 10,
   "metadata": {},
   "outputs": [
    {
     "name": "stdout",
     "output_type": "stream",
     "text": [
      "[[ 8 11 10  3]\n",
      " [ 8 15 11  2]\n",
      " [ 3  8  7  1]\n",
      " [ 0  1  1  0]]\n"
     ]
    }
   ],
   "source": [
    "for rw in range (4):\n",
    "    for cl in range (4):\n",
    "        Array4D[rw,cl]=ArrayKos5D[rw,cl]\n",
    "print (Array4D)"
   ]
  },
  {
   "cell_type": "markdown",
   "metadata": {},
   "source": [
    "code di atas berfungsi sebagai mmemindahkan arrray yang tadi 5 dimensi menjadi 4 dimensi"
   ]
  }
 ],
 "metadata": {
  "kernelspec": {
   "display_name": "Python 3",
   "language": "python",
   "name": "python3"
  },
  "language_info": {
   "codemirror_mode": {
    "name": "ipython",
    "version": 3
   },
   "file_extension": ".py",
   "mimetype": "text/x-python",
   "name": "python",
   "nbconvert_exporter": "python",
   "pygments_lexer": "ipython3",
   "version": "3.7.3"
  }
 },
 "nbformat": 4,
 "nbformat_minor": 2
}
