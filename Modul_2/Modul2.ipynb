{
 "cells": [
  {
   "cell_type": "code",
   "execution_count": 1,
   "metadata": {},
   "outputs": [
    {
     "name": "stdout",
     "output_type": "stream",
     "text": [
      "[[0. 0. 0. 0.]\n",
      " [0. 0. 0. 0.]\n",
      " [0. 0. 0. 0.]]\n",
      "[[4 7 1 3]\n",
      " [2 1 3 3]\n",
      " [3 0 0 3]]\n"
     ]
    },
    {
     "data": {
      "text/plain": [
       "<matplotlib.image.AxesImage at 0x227d3f597f0>"
      ]
     },
     "execution_count": 1,
     "metadata": {},
     "output_type": "execute_result"
    }
   ],
   "source": [
    "import numpy as np\n",
    "import matplotlib.pyplot as plt\n",
    "array=np.array ([[4,7,1,3],\n",
    "               [2,1,3,3],\n",
    "               [3,0,0,3]])\n",
    "p=np.zeros((3,4))\n",
    "print (p)\n",
    "print (array)\n",
    "plt.imshow(array)"
   ]
  },
  {
   "cell_type": "markdown",
   "metadata": {},
   "source": [
    "### import numpy as np \n",
    "Numpy memiliki kegunaan untuk operasi vektor dan matriks. Fiturnya hampir sama dengan MATLAB dalam mengelola array dan array multidimensi. Numpy merupakan salah satu library yang digunakan oleh library lain seperti Scikit-Learn untuk keperluan analisis data\n",
    "### import matplotlib.pyplot as plot\n",
    "matplotlib dapat digunakan sebagai pembuat grafik dalam berbagai platform, seperti Python dan Jupyter. Grafik yang dapat dibuat beragam, seperti grafik garis, batang, lingkaran, histogram, dsb.\n",
    "### Array=np.array \n",
    "Berfungsi sebagai satu variabel yang bernama \"Array\" yang menampung nilai suatu matrix 2 dimensi yang dimensinya 3x3\n",
    "### p=np.zeros((3,3))\n",
    "berfungsi untuk membuat array kosong dua dimensi 3x3"
   ]
  },
  {
   "cell_type": "code",
   "execution_count": 2,
   "metadata": {},
   "outputs": [
    {
     "name": "stdout",
     "output_type": "stream",
     "text": [
      "4\n",
      "4\n",
      "4\n",
      "3\n"
     ]
    }
   ],
   "source": [
    "for i in array:\n",
    "    print(len(i))\n",
    "print(len(array))"
   ]
  },
  {
   "cell_type": "markdown",
   "metadata": {},
   "source": [
    "# Jurnal nomer 4"
   ]
  },
  {
   "cell_type": "code",
   "execution_count": 3,
   "metadata": {},
   "outputs": [
    {
     "name": "stdout",
     "output_type": "stream",
     "text": [
      "[[4 7 1 3]\n",
      " [2 1 3 3]\n",
      " [3 0 0 3]]\n",
      "[[3. 1. 7. 4.]\n",
      " [3. 3. 1. 2.]\n",
      " [3. 0. 0. 3.]]\n"
     ]
    },
    {
     "data": {
      "text/plain": [
       "<matplotlib.image.AxesImage at 0x227d47bc128>"
      ]
     },
     "execution_count": 3,
     "metadata": {},
     "output_type": "execute_result"
    },
    {
     "data": {
      "image/png": "[encoded data removed]",
      "text/plain": [
       "<Figure size 432x288 with 1 Axes>"
      ]
     },
     "metadata": {
      "needs_background": "light"
     },
     "output_type": "display_data"
    }
   ],
   "source": [
    "for rw in range (3):\n",
    "    k=len(array[0])-1\n",
    "    for cl in range (4):\n",
    "        p[rw,k]=array[rw,cl]\n",
    "        k-=1\n",
    "print (array)\n",
    "print (p)\n",
    "plt.imshow(p)"
   ]
  },
  {
   "cell_type": "markdown",
   "metadata": {},
   "source": [
    "kode di atas berfungsi untuk melakukan fungsi percerminan dari matrix 3x3 yang sudah di deklarasikan\n",
    "### p[rw,k]=array[rw,cl]\n",
    "untuk melakukan pemindahan data agar sesuai dengan cermin yang di inginkan, dimana data kolom harus 2 terlbih dahulu yang di bantu dengan varibel bantu \"k\" yang di set nilainya 2, kemudian saat program berjalan varibel \"k\" akan di kurang satu sesuai dengan perulangan yang sudah di set oleh user. maka array kosong bernama P tersebut akan di isi oleh array yang sudah di cerminkan \n"
   ]
  },
  {
   "cell_type": "markdown",
   "metadata": {},
   "source": [
    "# Jurnal nomer 1 yang rotasi 45 derajat"
   ]
  },
  {
   "cell_type": "code",
   "execution_count": 4,
   "metadata": {},
   "outputs": [
    {
     "name": "stdout",
     "output_type": "stream",
     "text": [
      "[[2. 1. 0.]\n",
      " [0. 3. 0.]\n",
      " [0. 0. 0.]]\n"
     ]
    },
    {
     "data": {
      "text/plain": [
       "<matplotlib.image.AxesImage at 0x227d417d390>"
      ]
     },
     "execution_count": 4,
     "metadata": {},
     "output_type": "execute_result"
    },
    {
     "data": {
      "image/png": "[encoded data removed]",
      "text/plain": [
       "<Figure size 432x288 with 1 Axes>"
      ]
     },
     "metadata": {
      "needs_background": "light"
     },
     "output_type": "display_data"
    }
   ],
   "source": [
    "import math as ma\n",
    "a=np.deg2rad(45)\n",
    "q=np.zeros([3,3])\n",
    "for rw in range (3):    \n",
    "    for cl in range (3):\n",
    "        tmpx=(np.cos(a)*rw)-(np.sin(a)*cl)\n",
    "        tmpx=abs(int(tmpx))\n",
    "        tmpy=(np.sin(a)*rw)+(np.cos(a)*cl)\n",
    "        tmpy=abs(int(tmpy))\n",
    "        q[tmpx,tmpy]=array[rw,cl]\n",
    "#         print (tmpx)\n",
    "#         print (tmpy)\n",
    "print (q)\n",
    "plt.imshow(q)"
   ]
  },
  {
   "cell_type": "markdown",
   "metadata": {},
   "source": [
    "code di atas berfungsi untuk melakukan rotasi terhadap matrik yang sudah di buat, nilai matrik akan di rotasikan sebesar 45\n",
    "### tmpx=(np.cos(a)*rw)-(np.sin(a)*cl)\n",
    "potongan code di atas berfungi untuk mennetukan perubahan 45 derajat perubahan dari baris yang akan di ubah  yang dimana code tersebut merupakan rumus yang sudah di tentukan terlebih dahulu\n",
    "### tmpy=(np.sin(a)*rw)+(np.cos(a)*cl) \n",
    "potongan code di atas berfungsi untuk menentukan perubahan 45 derajat perubahan dari kolom yang akan di ubah yang dimana code tersebut merupakan rumus yang sudah di tentukan terlebih dahulu\n",
    "###  q[tmpx,tmpy]=array[rw,cl]\n",
    "berfungsi untuk melkukan perpindahan data dimana baris dan kolom yang menerima data sudah di tentukan perputarannya sebesar 45 derajat"
   ]
  },
  {
   "cell_type": "markdown",
   "metadata": {},
   "source": [
    "# Jurnal nomer 2 rotasi yang 90 derajat pusat di tengah"
   ]
  },
  {
   "cell_type": "code",
   "execution_count": 5,
   "metadata": {},
   "outputs": [
    {
     "name": "stdout",
     "output_type": "stream",
     "text": [
      "[[1. 3. 0.]\n",
      " [7. 1. 0.]\n",
      " [4. 2. 3.]]\n"
     ]
    },
    {
     "data": {
      "text/plain": [
       "<matplotlib.image.AxesImage at 0x227d4a19f98>"
      ]
     },
     "execution_count": 5,
     "metadata": {},
     "output_type": "execute_result"
    },
    {
     "data": {
      "image/png": "[encoded data removed]",
      "text/plain": [
       "<Figure size 432x288 with 1 Axes>"
      ]
     },
     "metadata": {
      "needs_background": "light"
     },
     "output_type": "display_data"
    }
   ],
   "source": [
    "m=n=1\n",
    "a=np.deg2rad(90)\n",
    "q=np.zeros([3,3])\n",
    "s=round(np.sin(a))\n",
    "l=round(np.cos(a))\n",
    "for rw in range (3):    \n",
    "    for cl in range (3):\n",
    "        tmpx=abs(int(l*(rw-m)-s*(cl-n)+m))\n",
    "        tmpy=abs(int(s*(rw-m)-l*(cl-n)+m))\n",
    "        q[tmpx,tmpy]=array[rw,cl]\n",
    "print (q)\n",
    "plt.imshow(q)"
   ]
  },
  {
   "cell_type": "markdown",
   "metadata": {},
   "source": [
    "code di atas berfungsi untuk memindahkan nilai matix sejauh 90 derajat dengan titik tengan menjadi center, \"tmpx=abs(int(l*(rw-m)-s*(cl-n)+m))\"  berfungi untuk mennetukan perubahan 90 derajat perubahan dari baris yang akan di ubah  yang dimana code tersebut merupakan rumus yang sudah di tentukan terlebih dahulu, \"tmpy=abs(int(s*(rw-m)-l*(cl-n)+m))\" berfungsi untuk menentukan perubahan 90 derajat perubahan dari kolom yang akan di ubah yang dimana code tersebut merupakan rumus yang sudah di tentukan terlebih dahulu, \"q[tmpx,tmpy]=array[rw,cl]\" berfungsi untuk melkukan perpindahan data dimana baris dan kolom yang menerima data sudah di tentukan perputarannya sebesar 90 derajat "
   ]
  },
  {
   "cell_type": "markdown",
   "metadata": {},
   "source": [
    "# Jurnal nomer 2 pergeran (translasi)"
   ]
  },
  {
   "cell_type": "code",
   "execution_count": 6,
   "metadata": {},
   "outputs": [
    {
     "name": "stdout",
     "output_type": "stream",
     "text": [
      "[[0. 0. 0. 0. 0. 0.]\n",
      " [0. 0. 0. 0. 0. 0.]\n",
      " [0. 0. 0. 0. 0. 0.]\n",
      " [0. 0. 4. 7. 1. 0.]\n",
      " [0. 0. 2. 1. 3. 0.]\n",
      " [0. 0. 3. 0. 0. 0.]]\n",
      "[[4 7 1 3]\n",
      " [2 1 3 3]\n",
      " [3 0 0 3]]\n"
     ]
    }
   ],
   "source": [
    "n=3\n",
    "m=2\n",
    "q=np.zeros((6,6))\n",
    "for rw in range (3):\n",
    "    for cl in range (3):\n",
    "        q[rw+n,cl+m]=array[rw,cl]\n",
    "print (q)\n",
    "print (array)"
   ]
  },
  {
   "cell_type": "markdown",
   "metadata": {},
   "source": [
    "code di atas berfungsi untuk mengeser nilai pada matrik sudah ada dan di tampung di dalam satu varibelarray yang jumlahnya 6x6, \"q[rw+n,cl+m]=array[rw,cl]\" code ini berfungsi unruk menggeser seberapa jauh akan melakukan perpindahan, pergeseran nilainya adalah barisnya bergeser sejauh 2 baris, dan kolomnya bergeser sejauh 3 kolom"
   ]
  },
  {
   "cell_type": "markdown",
   "metadata": {},
   "source": [
    "# Jurnal nomer 3 penskalaan (dilatasi)"
   ]
  },
  {
   "cell_type": "code",
   "execution_count": 7,
   "metadata": {},
   "outputs": [
    {
     "name": "stdout",
     "output_type": "stream",
     "text": [
      "[[4. 4. 7. 7. 1. 1.]\n",
      " [4. 4. 7. 7. 1. 1.]\n",
      " [2. 2. 1. 1. 3. 3.]\n",
      " [2. 2. 1. 1. 3. 3.]\n",
      " [3. 3. 0. 0. 0. 0.]\n",
      " [3. 3. 0. 0. 0. 0.]]\n"
     ]
    }
   ],
   "source": [
    "n=3\n",
    "m=2\n",
    "q=np.zeros((6,6))\n",
    "for rw in range (3):\n",
    "    for cl in range (3):\n",
    "        for xn in range(rw*2,rw*2+2):\n",
    "            for yx in range(cl*2,cl*2+2):\n",
    "                q[xn,yx]=array[rw,cl]\n",
    "print (q)"
   ]
  },
  {
   "cell_type": "code",
   "execution_count": 8,
   "metadata": {},
   "outputs": [
    {
     "name": "stdout",
     "output_type": "stream",
     "text": [
      "[[4. 4. 7. 7. 1. 1.]\n",
      " [4. 4. 7. 7. 1. 1.]\n",
      " [2. 2. 1. 1. 3. 3.]\n",
      " [2. 2. 1. 1. 3. 3.]\n",
      " [3. 3. 0. 0. 0. 0.]\n",
      " [3. 3. 0. 0. 0. 0.]]\n"
     ]
    }
   ],
   "source": [
    "q=np.zeros((6,6))\n",
    "m=n=0\n",
    "g=1\n",
    "for rw in range (3):\n",
    "#     print (\"data ->\",[m,n])\n",
    "    for cl in range (3):\n",
    "        q[m,n]=array[rw,cl]\n",
    "        q[m,n+1]=array[rw,cl]\n",
    "        q[m+1,n]=array[rw,cl]\n",
    "        q[m+1,n+1]=array[rw,cl]\n",
    "#         print (\"nilai n ->\",n)\n",
    "#         print (\"nilai m ->\",m)\n",
    "#         print (\"->\",[m,n],\"nilainya->\",array[rw,cl])\n",
    "#         print (\"->>\",[m,n+1],\"nilainya->\",array[rw,cl])\n",
    "#         print (\"->>>\",[m+1,n],\"nilainya->\",array[rw,cl])\n",
    "#         print (\"->>>>\",[m+1,n+1],\"nilainya->\",array[rw,cl])\n",
    "#         print (\"nilai n ->>\",n)\n",
    "#         print (\"nilai m ->>\",m,\"\\n\")\n",
    "        n=n+2 \n",
    "    m=m+2\n",
    "    n=0\n",
    "print (q)\n",
    "\n",
    "# for x in range (len (q)):\n",
    "#     for y in range (len (q)):\n",
    "#         print (g,\"->\",[x,y],\"->>\",q[x,y])\n",
    "#         g+=1"
   ]
  },
  {
   "cell_type": "markdown",
   "metadata": {},
   "source": [
    "berfungsi untuk melakukan pensekalaan atau dilatasi yang mana di maksud adalah untuk melakukan proses pengezoom-an dari citra, \"q[m,n]=array[rw,cl]\" berfungsi untuk mengisi data yang ada di array \"array\" di masukkan sebanyak 4 kali di titik yang berbeda, dimana titik tersebut adalah 1 titik di sampingnya \"q[m,n+1]=array[rw,cl]\" , pojok bawah 1\" q[m+1,n+1]=array[rw,cl]\", dan bawahnya \"q[m+1,n]=array[rw,cl]\" titik awal yang di masukkan data. "
   ]
  },
  {
   "cell_type": "code",
   "execution_count": null,
   "metadata": {},
   "outputs": [],
   "source": []
  }
 ],
 "metadata": {
  "kernelspec": {
   "display_name": "Python 3",
   "language": "python",
   "name": "python3"
  },
  "language_info": {
   "codemirror_mode": {
    "name": "ipython",
    "version": 3
   },
   "file_extension": ".py",
   "mimetype": "text/x-python",
   "name": "python",
   "nbconvert_exporter": "python",
   "pygments_lexer": "ipython3",
   "version": "3.7.3"
  }
 },
 "nbformat": 4,
 "nbformat_minor": 2
}
